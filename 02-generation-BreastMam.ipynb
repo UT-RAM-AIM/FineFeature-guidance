{
 "cells": [
  {
   "cell_type": "code",
   "execution_count": null,
   "id": "337317b0",
   "metadata": {},
   "outputs": [],
   "source": [
    "# Step 0: load the checkpoints (autoencoder, diffusion, and classifier models)\n",
    "import os\n",
    "import torch\n",
    "import torch.nn as nn\n",
    "import numpy as np\n",
    "import matplotlib.pyplot as plt\n",
    "import pandas as pd\n",
    "from PIL import Image\n",
    "from lsdm.models.diffusion.ddim import DDIMSampler\n",
    "from omegaconf import OmegaConf\n",
    "from lsdm.util import instantiate_from_config\n",
    "import albumentations\n",
    "from torchvision import transforms\n",
    "from lsdm.data.general import DatasetWithClassifierAPIValidation\n",
    "from torch.utils.data import DataLoader\n",
    "\n",
    "# TODO: create meta config file.\n",
    "device = \"cuda:0\"\n",
    "key_feature = \"others\"  # for new csv files, choose \"others\"\n",
    "lsdm_config = \"configs/latent-diffusion/lsdm_general.yaml\"\n",
    "classifier_config = \"configs/classifier/classifier_general.yaml\"\n",
    "classifier_ckpt = \"\"  # BreastMam classifier ckpt\n",
    "\n",
    "def load_model_from_config(config, ckpt, device=device):\n",
    "    print(f\"Loading model from {ckpt}\")\n",
    "    pl_sd = torch.load(ckpt, map_location=torch.device(\"cpu\"))#, map_location=\"cpu\")\n",
    "    sd = pl_sd[\"state_dict\"]\n",
    "    model = instantiate_from_config(config.model)\n",
    "    m, u = model.load_state_dict(sd, strict=False)\n",
    "    model.to(torch.device(device))  # load on cuda:1\n",
    "    model.eval()\n",
    "    return model\n",
    "\n",
    "def get_lsdm_model():\n",
    "    config = OmegaConf.load(lsdm_config)  \n",
    "    model = load_model_from_config(config, config.model.params.unet_config.params.ckpt_path)\n",
    "    return model\n",
    "\n",
    "# load LSDM model (autoencoder+diffusion):\n",
    "lsdm_model = get_lsdm_model()\n",
    "# load the sampler with classifier model:\n",
    "sampler = DDIMSampler(lsdm_model,\n",
    "                      classifier_guidance=key_feature,\n",
    "                      classifier_config=classifier_config,\n",
    "                      classifier_ckpt=classifier_ckpt,)"
   ]
  }
 ],
 "metadata": {
  "kernelspec": {
   "display_name": "Python 3",
   "language": "python",
   "name": "python3"
  },
  "language_info": {
   "codemirror_mode": {
    "name": "ipython",
    "version": 3
   },
   "file_extension": ".py",
   "mimetype": "text/x-python",
   "name": "python",
   "nbconvert_exporter": "python",
   "pygments_lexer": "ipython3",
   "version": "3.7.10"
  }
 },
 "nbformat": 4,
 "nbformat_minor": 5
}
